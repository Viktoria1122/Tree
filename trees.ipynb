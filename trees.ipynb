{
 "cells": [
  {
   "cell_type": "markdown",
   "metadata": {},
   "source": [
    "## Binary Tree Traversal"
   ]
  },
  {
   "cell_type": "code",
   "execution_count": null,
   "metadata": {},
   "outputs": [],
   "source": [
    "class Node:\n",
    "    def __init__(self, data):\n",
    "        self.data = data\n",
    "        self.left = None\n",
    "        self.right = None\n",
    "\n",
    "# Pre-order traversal\n",
    "def pre_order(node):\n",
    "    if node is None:\n",
    "        return []\n",
    "    traversal = [node.data]\n",
    "    traversal += pre_order(node.left)\n",
    "    traversal += pre_order(node.right)\n",
    "    return traversal\n",
    "\n",
    "# In-order traversal\n",
    "def in_order(node):\n",
    "    if node is None:\n",
    "        return []\n",
    "    traversal = []\n",
    "    traversal += in_order(node.left)\n",
    "    traversal.append(node.data)\n",
    "    traversal += in_order(node.right)\n",
    "    return traversal\n",
    "\n",
    "# Post-order traversal\n",
    "def post_order(node):\n",
    "    if node is None:\n",
    "        return []\n",
    "    traversal = []\n",
    "    traversal += post_order(node.left)\n",
    "    traversal += post_order(node.right)\n",
    "    traversal.append(node.data)\n",
    "    return traversal\n"
   ]
  },
  {
   "cell_type": "markdown",
   "metadata": {},
   "source": [
    "![alt text](2024-04-23.png)"
   ]
  },
  {
   "cell_type": "markdown",
   "metadata": {},
   "source": [
    "## Sort binary tree by levels"
   ]
  },
  {
   "cell_type": "code",
   "execution_count": null,
   "metadata": {},
   "outputs": [],
   "source": [
    "from collections import deque\n",
    "\n",
    "class Node:\n",
    "    def __init__(self, L, R, n):\n",
    "        self.left = L\n",
    "        self.right = R\n",
    "        self.value = n\n",
    "\n",
    "def tree_by_levels(node):\n",
    "    if node is None:\n",
    "        return []\n",
    "\n",
    "    result = []\n",
    "    queue = deque([node])\n",
    "\n",
    "    while queue:\n",
    "        current_node = queue.popleft()\n",
    "        result.append(current_node.value)\n",
    "\n",
    "        if current_node.left:\n",
    "            queue.append(current_node.left)\n",
    "        if current_node.right:\n",
    "            queue.append(current_node.right)\n",
    "\n",
    "    return result"
   ]
  },
  {
   "cell_type": "markdown",
   "metadata": {},
   "source": [
    "![alt text](<2024-04-23 (1).png>)"
   ]
  },
  {
   "cell_type": "markdown",
   "metadata": {},
   "source": [
    "## Delete Node in a BST "
   ]
  },
  {
   "cell_type": "code",
   "execution_count": null,
   "metadata": {},
   "outputs": [],
   "source": [
    "class TreeNode:\n",
    "    def __init__(self, val=0, left=None, right=None):\n",
    "        self.val = val\n",
    "        self.left = left\n",
    "        self.right = right\n",
    "\n",
    "class Solution:\n",
    "    def deleteNode(self, root: TreeNode, key: int) -> TreeNode:\n",
    "        if root is None:\n",
    "            return None\n",
    "\n",
    "        if key < root.val:\n",
    "            root.left = self.deleteNode(root.left, key)\n",
    "        elif key > root.val:\n",
    "            root.right = self.deleteNode(root.right, key)\n",
    "        else:\n",
    "            if root.left is None:\n",
    "                return root.right\n",
    "            elif root.right is None:\n",
    "                return root.left\n",
    "\n",
    "            successor = self.findSuccessor(root.right)\n",
    "            root.val = successor.val\n",
    "            root.right = self.deleteNode(root.right, successor.val)\n",
    "        \n",
    "        return root\n",
    "    \n",
    "    def findSuccessor(self, node: TreeNode) -> TreeNode:\n",
    "        current = node\n",
    "        while current.left:\n",
    "            current = current.left\n",
    "        return current\n"
   ]
  },
  {
   "cell_type": "markdown",
   "metadata": {},
   "source": [
    "![alt text](<2024-04-23 (2).png>)"
   ]
  }
 ],
 "metadata": {
  "kernelspec": {
   "display_name": "Python 3",
   "language": "python",
   "name": "python3"
  },
  "language_info": {
   "name": "python",
   "version": "3.11.5"
  }
 },
 "nbformat": 4,
 "nbformat_minor": 2
}
